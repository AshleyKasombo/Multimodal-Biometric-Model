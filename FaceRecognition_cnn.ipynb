{
  "nbformat": 4,
  "nbformat_minor": 0,
  "metadata": {
    "colab": {
      "name": "FaceRecognition_cnn.ipynb",
      "provenance": [],
      "collapsed_sections": []
    },
    "kernelspec": {
      "name": "python3",
      "display_name": "Python 3"
    }
  },
  "cells": [
    {
      "cell_type": "code",
      "metadata": {
        "id": "SzIMzT-b0n6W"
      },
      "source": [
        "import keras\n",
        "import numpy as np\n",
        "import cv2\n",
        "import matplotlib.pyplot as plt\n",
        "import os\n",
        "import pickle\n",
        "\n",
        "from keras.models import Sequential\n",
        "from keras.layers import Dense, Dropout, Conv2D, MaxPooling2D, Flatten, BatchNormalization , Activation\n",
        "from keras.optimizers import RMSprop\n",
        "from keras.preprocessing.image import ImageDataGenerator, img_to_array\n",
        "from keras import backend as K\n",
        "from keras import regularizers\n",
        "from random import randint\n",
        "from sklearn.model_selection import train_test_split\n",
        "from sklearn.metrics.pairwise import cosine_similarity\n",
        "from keras.layers.normalization import BatchNormalization\n",
        "from google.colab import drive\n",
        "from tensorflow.keras.models import model_from_json\n",
        "from sklearn.metrics import accuracy_score\n",
        "from keras.optimizers import Adam\n",
        "drive.mount('/content/drive')\n",
        "from sklearn.metrics import confusion_matrix "
      ],
      "execution_count": null,
      "outputs": []
    },
    {
      "cell_type": "markdown",
      "metadata": {
        "id": "q8_LcB1d1B7x"
      },
      "source": [
        "Choosing good hyperparameters provides two main benefits:\n",
        "\n",
        "Efficient search across the space of possible hyperparameters; and\n",
        "Easier management of a large set of experiments for hyperparameter tuning."
      ]
    },
    {
      "cell_type": "code",
      "metadata": {
        "id": "xsDU5rsK1Jks"
      },
      "source": [
        "def train_model():\n",
        "    path =  '/content/drive/My Drive/ATT/'\n",
        "\n",
        "    # 1-hot encoding\n",
        "    a = np.array([i for i in range(43)])\n",
        "    classes = np.zeros((a.size, a.max() + 1))\n",
        "    classes[np.arange(a.size), a] = 1\n",
        "\n",
        "    train_array = []\n",
        "    test_array = []\n",
        "    dir_array = []\n",
        "\n",
        "    # let random index and 9th(enumerate begins at 0 so index 8 represents image 9) pgm for test\n",
        "    for dir in os.listdir(path):\n",
        "        i1, i2 = 8, randint(0, 7)\n",
        "        for idx, img in enumerate(sorted(os.listdir(path + dir))):\n",
        "            image = cv2.imread(path + dir + '/' + img, 0)\n",
        "            image = cv2.resize(image, (32, 32))\n",
        "            image = image[:, :, np.newaxis]\n",
        "            if idx == i1 or idx == i2:\n",
        "                test_array.append((image, classes[os.listdir(path).index(dir)]))\n",
        "                continue\n",
        "\n",
        "            train_array.append((image, classes[os.listdir(path).index(dir)]))\n",
        "        dir_array.append(dir)\n",
        "\n",
        "    im_shape = (32, 32, 1)\n",
        "    output  = len(classes)\n",
        "    \n",
        "    model = Sequential()\n",
        "    \n",
        "    model.add(Conv2D(64,\n",
        "                    (3,3),\n",
        "                    padding=\"valid\",\n",
        "                    activation=\"relu\",\n",
        "                    input_shape=im_shape))\n",
        "    model.add(Conv2D(64,\n",
        "                    (3,3),\n",
        "                    padding=\"valid\",\n",
        "                    activation=\"relu\"))\n",
        "    model.add(MaxPooling2D(pool_size=(2, 2)))\n",
        "              \n",
        "    model.add(Dropout(0.2))\n",
        "    \n",
        "    model.add(Conv2D(128,\n",
        "                    (3,3),\n",
        "                    padding=\"valid\",\n",
        "                    activation=\"relu\"))\n",
        "    model.add(Conv2D(128,\n",
        "                    (3,3),\n",
        "                    padding=\"valid\",\n",
        "                    activation=\"relu\"))\n",
        "    model.add(MaxPooling2D(pool_size=(2, 2)))\n",
        "\n",
        "    model.add(Flatten())\n",
        "    \n",
        "    model.add(Dropout(0.2))\n",
        "    model.add(Dense(512, activation=\"relu\"))\n",
        "    model.add(Dropout(0.2))\n",
        "    model.add(Dense(256, activation=\"relu\"))\n",
        "    model.add(Dense(output))\n",
        "    model.add(Activation(\"softmax\"))\n",
        "\n",
        "    model.summary() \n",
        "    \n",
        "    model.compile(optimizer= 'adam', \n",
        "                  loss='categorical_crossentropy',\n",
        "                  metrics = ['accuracy'])\n",
        "\n",
        "    train_images, train_labels = np.array([t[0] for t in train_array]), np.array([t[1] for t in train_array])\n",
        "    test_images, test_labels = np.array([t[0] for t in test_array]), np.array([t[1] for t in test_array])\n",
        "\n",
        "   \n",
        "    history = model.fit(train_images, train_labels,\n",
        "                        batch_size=20,\n",
        "                        epochs=40,\n",
        "                        verbose=2,\n",
        "                        validation_data=(test_images, test_labels))\n",
        "    \n",
        "\n",
        "    model_json = model.to_json()\n",
        "    with open(\"/content/drive/My Drive/SAVEDMODELS/newfacemodel2.json\", \"w\") as json_file:\n",
        "        json_file.write(model_json)\n",
        "        print(\"[INFO] the model is saved into jason file.\")\n",
        "        # serialize weights to HDF5\n",
        "        model.save_weights('/content/drive/My Drive/SAVEDMODELS/newfaceweights2.h5')\n",
        "        print(\"[INFO] Model weights are saved successfully\")\n",
        "\n",
        "   \n",
        "    print(history.history.keys())\n",
        "    plt.figure(1, figsize = (15,8))   \n",
        "    plt.subplot(221)  \n",
        "    plt.plot(history.history['accuracy'])  \n",
        "    plt.plot(history.history['val_accuracy'])  \n",
        "    plt.title('model accuracy')  \n",
        "    plt.ylabel('accuracy')  \n",
        "    plt.xlabel('epoch')  \n",
        "    plt.legend(['train', 'valid']) \n",
        "    plt.subplot(222)  \n",
        "    plt.plot(history.history['loss'])  \n",
        "    plt.plot(history.history['val_loss'])  \n",
        "    plt.title('model loss')  \n",
        "    plt.ylabel('loss')  \n",
        "    plt.xlabel('epoch')  \n",
        "    plt.legend(['train', 'valid']) \n",
        "    plt.show()\n",
        "\n",
        "    return test_images, test_labels, classes, dir_array"
      ],
      "execution_count": null,
      "outputs": []
    },
    {
      "cell_type": "code",
      "metadata": {
        "id": "ewpvcCdQ4PjA",
        "colab": {
          "base_uri": "https://localhost:8080/",
          "height": 1000
        },
        "outputId": "0c1fd5d4-d3e5-44ed-b372-56ef5a8ab617"
      },
      "source": [
        "ti, tl, c, d = train_model()"
      ],
      "execution_count": null,
      "outputs": [
        {
          "output_type": "stream",
          "text": [
            "Model: \"sequential_1\"\n",
            "_________________________________________________________________\n",
            "Layer (type)                 Output Shape              Param #   \n",
            "=================================================================\n",
            "conv2d_4 (Conv2D)            (None, 30, 30, 64)        640       \n",
            "_________________________________________________________________\n",
            "conv2d_5 (Conv2D)            (None, 28, 28, 64)        36928     \n",
            "_________________________________________________________________\n",
            "max_pooling2d_2 (MaxPooling2 (None, 14, 14, 64)        0         \n",
            "_________________________________________________________________\n",
            "dropout_3 (Dropout)          (None, 14, 14, 64)        0         \n",
            "_________________________________________________________________\n",
            "conv2d_6 (Conv2D)            (None, 12, 12, 128)       73856     \n",
            "_________________________________________________________________\n",
            "conv2d_7 (Conv2D)            (None, 10, 10, 128)       147584    \n",
            "_________________________________________________________________\n",
            "max_pooling2d_3 (MaxPooling2 (None, 5, 5, 128)         0         \n",
            "_________________________________________________________________\n",
            "flatten_1 (Flatten)          (None, 3200)              0         \n",
            "_________________________________________________________________\n",
            "dropout_4 (Dropout)          (None, 3200)              0         \n",
            "_________________________________________________________________\n",
            "dense_3 (Dense)              (None, 512)               1638912   \n",
            "_________________________________________________________________\n",
            "dropout_5 (Dropout)          (None, 512)               0         \n",
            "_________________________________________________________________\n",
            "dense_4 (Dense)              (None, 256)               131328    \n",
            "_________________________________________________________________\n",
            "dense_5 (Dense)              (None, 43)                11051     \n",
            "_________________________________________________________________\n",
            "activation_1 (Activation)    (None, 43)                0         \n",
            "=================================================================\n",
            "Total params: 2,040,299\n",
            "Trainable params: 2,040,299\n",
            "Non-trainable params: 0\n",
            "_________________________________________________________________\n",
            "Epoch 1/40\n",
            "18/18 - 3s - loss: 6.5341 - accuracy: 0.0174 - val_loss: 3.7568 - val_accuracy: 0.0000e+00\n",
            "Epoch 2/40\n",
            "18/18 - 3s - loss: 3.7754 - accuracy: 0.0203 - val_loss: 3.7535 - val_accuracy: 0.0465\n",
            "Epoch 3/40\n",
            "18/18 - 3s - loss: 3.7612 - accuracy: 0.0262 - val_loss: 3.7504 - val_accuracy: 0.0233\n",
            "Epoch 4/40\n",
            "18/18 - 3s - loss: 3.7530 - accuracy: 0.0291 - val_loss: 3.7313 - val_accuracy: 0.0349\n",
            "Epoch 5/40\n",
            "18/18 - 3s - loss: 3.6907 - accuracy: 0.0727 - val_loss: 3.5238 - val_accuracy: 0.1512\n",
            "Epoch 6/40\n",
            "18/18 - 3s - loss: 3.3386 - accuracy: 0.1395 - val_loss: 2.8951 - val_accuracy: 0.2442\n",
            "Epoch 7/40\n",
            "18/18 - 3s - loss: 2.6511 - accuracy: 0.2587 - val_loss: 2.3477 - val_accuracy: 0.3721\n",
            "Epoch 8/40\n",
            "18/18 - 3s - loss: 2.0899 - accuracy: 0.4419 - val_loss: 1.7197 - val_accuracy: 0.5000\n",
            "Epoch 9/40\n",
            "18/18 - 3s - loss: 1.7455 - accuracy: 0.5145 - val_loss: 1.4340 - val_accuracy: 0.6047\n",
            "Epoch 10/40\n",
            "18/18 - 3s - loss: 1.2043 - accuracy: 0.6599 - val_loss: 1.3462 - val_accuracy: 0.6628\n",
            "Epoch 11/40\n",
            "18/18 - 3s - loss: 1.0687 - accuracy: 0.7151 - val_loss: 0.8999 - val_accuracy: 0.7791\n",
            "Epoch 12/40\n",
            "18/18 - 3s - loss: 0.7663 - accuracy: 0.7674 - val_loss: 0.9104 - val_accuracy: 0.7791\n",
            "Epoch 13/40\n",
            "18/18 - 3s - loss: 0.4964 - accuracy: 0.8634 - val_loss: 1.0286 - val_accuracy: 0.7791\n",
            "Epoch 14/40\n",
            "18/18 - 3s - loss: 0.4500 - accuracy: 0.8721 - val_loss: 0.8658 - val_accuracy: 0.7907\n",
            "Epoch 15/40\n",
            "18/18 - 3s - loss: 0.2570 - accuracy: 0.9215 - val_loss: 1.1546 - val_accuracy: 0.7907\n",
            "Epoch 16/40\n",
            "18/18 - 3s - loss: 0.3977 - accuracy: 0.8837 - val_loss: 0.9970 - val_accuracy: 0.7674\n",
            "Epoch 17/40\n",
            "18/18 - 3s - loss: 0.4310 - accuracy: 0.8779 - val_loss: 0.7815 - val_accuracy: 0.8256\n",
            "Epoch 18/40\n",
            "18/18 - 3s - loss: 0.1823 - accuracy: 0.9390 - val_loss: 1.0029 - val_accuracy: 0.8023\n",
            "Epoch 19/40\n",
            "18/18 - 3s - loss: 0.1511 - accuracy: 0.9506 - val_loss: 1.1831 - val_accuracy: 0.7442\n",
            "Epoch 20/40\n",
            "18/18 - 3s - loss: 0.2498 - accuracy: 0.9360 - val_loss: 1.1063 - val_accuracy: 0.8023\n",
            "Epoch 21/40\n",
            "18/18 - 3s - loss: 0.1520 - accuracy: 0.9651 - val_loss: 1.0248 - val_accuracy: 0.8372\n",
            "Epoch 22/40\n",
            "18/18 - 3s - loss: 0.1037 - accuracy: 0.9622 - val_loss: 1.0913 - val_accuracy: 0.8256\n",
            "Epoch 23/40\n",
            "18/18 - 3s - loss: 0.0764 - accuracy: 0.9855 - val_loss: 1.1611 - val_accuracy: 0.8372\n",
            "Epoch 24/40\n",
            "18/18 - 3s - loss: 0.0449 - accuracy: 0.9913 - val_loss: 1.2955 - val_accuracy: 0.8605\n",
            "Epoch 25/40\n",
            "18/18 - 3s - loss: 0.0671 - accuracy: 0.9884 - val_loss: 1.3052 - val_accuracy: 0.8605\n",
            "Epoch 26/40\n",
            "18/18 - 3s - loss: 0.0764 - accuracy: 0.9797 - val_loss: 1.4555 - val_accuracy: 0.8372\n",
            "Epoch 27/40\n",
            "18/18 - 3s - loss: 0.1983 - accuracy: 0.9651 - val_loss: 0.8345 - val_accuracy: 0.8721\n",
            "Epoch 28/40\n",
            "18/18 - 3s - loss: 0.1112 - accuracy: 0.9622 - val_loss: 0.9416 - val_accuracy: 0.8256\n",
            "Epoch 29/40\n",
            "18/18 - 3s - loss: 0.1161 - accuracy: 0.9564 - val_loss: 1.2259 - val_accuracy: 0.8605\n",
            "Epoch 30/40\n",
            "18/18 - 3s - loss: 0.0682 - accuracy: 0.9738 - val_loss: 0.9068 - val_accuracy: 0.8721\n",
            "Epoch 31/40\n",
            "18/18 - 3s - loss: 0.0822 - accuracy: 0.9767 - val_loss: 1.1600 - val_accuracy: 0.8372\n",
            "Epoch 32/40\n",
            "18/18 - 3s - loss: 0.1040 - accuracy: 0.9767 - val_loss: 0.8984 - val_accuracy: 0.8721\n",
            "Epoch 33/40\n",
            "18/18 - 3s - loss: 0.0904 - accuracy: 0.9709 - val_loss: 0.6469 - val_accuracy: 0.8372\n",
            "Epoch 34/40\n",
            "18/18 - 3s - loss: 0.0371 - accuracy: 0.9942 - val_loss: 0.8818 - val_accuracy: 0.8605\n",
            "Epoch 35/40\n",
            "18/18 - 3s - loss: 0.0226 - accuracy: 0.9913 - val_loss: 0.9286 - val_accuracy: 0.8837\n",
            "Epoch 36/40\n",
            "18/18 - 3s - loss: 0.0242 - accuracy: 0.9913 - val_loss: 1.2662 - val_accuracy: 0.8605\n",
            "Epoch 37/40\n",
            "18/18 - 3s - loss: 0.0469 - accuracy: 0.9738 - val_loss: 0.9486 - val_accuracy: 0.9302\n",
            "Epoch 38/40\n",
            "18/18 - 3s - loss: 0.0398 - accuracy: 0.9913 - val_loss: 0.9671 - val_accuracy: 0.8605\n",
            "Epoch 39/40\n",
            "18/18 - 3s - loss: 0.0774 - accuracy: 0.9767 - val_loss: 1.2268 - val_accuracy: 0.8488\n",
            "Epoch 40/40\n",
            "18/18 - 3s - loss: 0.1089 - accuracy: 0.9651 - val_loss: 1.1124 - val_accuracy: 0.8605\n",
            "[INFO] the model is saved into jason file.\n",
            "[INFO] Model weights are saved successfully\n",
            "dict_keys(['loss', 'accuracy', 'val_loss', 'val_accuracy'])\n"
          ],
          "name": "stdout"
        },
        {
          "output_type": "display_data",
          "data": {
            "image/png": "[encoded data removed]",
            "text/plain": [
              "<Figure size 1080x576 with 2 Axes>"
            ]
          },
          "metadata": {
            "tags": [],
            "needs_background": "light"
          }
        }
      ]
    },
    {
      "cell_type": "code",
      "metadata": {
        "id": "FpPyQxU2rGaz"
      },
      "source": [
        " def load_model_and_weights():\n",
        "    print(\"[INFO] Loading face model and its weights...\")\n",
        "    # Loading and using saved model steps\n",
        "    # load json and create model\n",
        "    js_file = open('/content/drive/My Drive/SAVEDMODELS/newfacemodel2.json', 'r')\n",
        "    loaded_model_json = js_file.read()\n",
        "    js_file.close()\n",
        "    loaded_model = model_from_json(loaded_model_json)\n",
        "    # load weights into new loaded model\n",
        "    loaded_model.load_weights('/content/drive/My Drive/SAVEDMODELS/newfaceweights2.h5')\n",
        "    print(\"Loaded face model with its weights from drive\")\n",
        "    return loaded_model"
      ],
      "execution_count": null,
      "outputs": []
    },
    {
      "cell_type": "code",
      "metadata": {
        "id": "DkxifsUuvsTv",
        "colab": {
          "base_uri": "https://localhost:8080/"
        },
        "outputId": "a1419087-eadf-46e5-e81f-4363abf6cc9f"
      },
      "source": [
        " loadedmodel = load_model_and_weights()\n",
        " loadedmodel.compile(loss='categorical_crossentropy',\n",
        "                      optimizer='adam',\n",
        "                      metrics=['accuracy'])"
      ],
      "execution_count": null,
      "outputs": [
        {
          "output_type": "stream",
          "text": [
            "[INFO] Loading face model and its weights...\n",
            "Loaded face model with its weights from drive\n"
          ],
          "name": "stdout"
        }
      ]
    },
    {
      "cell_type": "code",
      "metadata": {
        "id": "HZd1H6BRv1Y3",
        "colab": {
          "base_uri": "https://localhost:8080/"
        },
        "outputId": "50b34ae8-449d-4623-a6e9-e4b2a05d6632"
      },
      "source": [
        " score = loadedmodel.evaluate(ti, tl, verbose=0)\n",
        " print('Test loss:', score[0])\n",
        " print('Test accuracy:', score[1])"
      ],
      "execution_count": null,
      "outputs": [
        {
          "output_type": "stream",
          "text": [
            "Test loss: 1.1123974323272705\n",
            "Test accuracy: 0.8604651093482971\n"
          ],
          "name": "stdout"
        }
      ]
    },
    {
      "cell_type": "code",
      "metadata": {
        "id": "7Ewcjror09mL"
      },
      "source": [
        ""
      ],
      "execution_count": null,
      "outputs": []
    },
    {
      "cell_type": "code",
      "metadata": {
        "id": "BxiM0h0K1MCJ"
      },
      "source": [
        "def evaluate_model(test_images, test_labels, classes, dir_array):\n",
        "    \n",
        "    model = loadedmodel\n",
        "\n",
        "    # evaluate test images added in the orl database\n",
        "    imageindex = 9\n",
        "\n",
        "    pathsorin1 = '/content/drive/My Drive/ATT/s1/' + str(imageindex) + '.pgm'\n",
        "    sorin1 = cv2.imread(pathsorin1, cv2.IMREAD_UNCHANGED)\n",
        "    sorin1 = cv2.resize(sorin1, (32, 32))\n",
        "    sorin1 = sorin1[:, :, np.newaxis]\n",
        "\n",
        "    imageindex = 9\n",
        "\n",
        "    pathandreea1 = '/content/drive/My Drive/ATT/s6/' + str(imageindex) + '.pgm'\n",
        "    andreea1 = cv2.imread(pathandreea1, cv2.IMREAD_UNCHANGED)\n",
        "    andreea1 = cv2.resize(andreea1, (32, 32))\n",
        "    andreea1 = andreea1[:, :, np.newaxis]\n",
        "\n",
        "    imageindex = 9\n",
        "\n",
        "    pathalex1 = '/content/drive/My Drive/ATT/s9/' + str(imageindex) + '.pgm'\n",
        "    alex1 = cv2.imread(pathalex1, cv2.IMREAD_UNCHANGED)\n",
        "    alex1 = cv2.resize(alex1, (32, 32))\n",
        "    alex1 = alex1[:, :, np.newaxis]\n",
        "\n",
        "    test1 = np.array([sorin1])\n",
        "    pred1 = model.predict(test1)\n",
        "\n",
        "    test2 = np.array([andreea1])\n",
        "    pred2 = model.predict(test2)\n",
        "\n",
        "\n",
        "    people_test_image = np.array([sorin1, andreea1, alex1])\n",
        "\n",
        "    [prediction1, prediction2, prediction3] = model.predict(people_test_image)\n",
        "    fpr_keras, tpr_keras, thresholds_keras = roc_curve(y_test, y_pred_keras)\n",
        "\n",
        "    a = max([(c, cosine_similarity([prediction1], [c])) for c in classes], key=lambda t:t[1])\n",
        "    b = max([(c, cosine_similarity([prediction2], [c])) for c in classes], key=lambda t:t[1])\n",
        "    c = max([(c, cosine_similarity([prediction3], [c])) for c in classes], key=lambda t:t[1])\n",
        "\n",
        "    print(dir_array[list(a[0]).index(1)])\n",
        "    print(dir_array[list(b[0]).index(1)])\n",
        "    print(dir_array[list(c[0]).index(1)])\n",
        "\n",
        "\n",
        "\n",
        "\n",
        "    # FAR calculator\n",
        "    tresh=[]\n",
        "    percent=[]\n",
        "    treshold=0\n",
        "    while  treshold < 100:\n",
        "        accepted_reg=0\n",
        "        for registered_index in pred1:\n",
        "          counter_reg=0\n",
        "          array_reg=np.array([0.0])\n",
        "          max_confidence_reg = array_reg.astype(type('float32', (float,), {}))\n",
        "          max_confIndex_reg=0\n",
        "          for j in registered_index:\n",
        "            if (j > max_confidence_reg):\n",
        "              max_confidence_reg=j\n",
        "              max_confIndex_reg=counter_reg\n",
        "            counter_reg=counter_reg+1\n",
        "          if(max_confidence_reg > treshold*0.01):\n",
        "            accepted_reg+=1\n",
        "        tresh.append(treshold)\n",
        "        percent.append((80-accepted_reg)/80)\n",
        "        treshold+=0.01\n",
        "\n",
        "\n",
        "    tresh_imp=[]\n",
        "    percent_imp=[]\n",
        "    treshold_imp=0\n",
        "    while  treshold_imp <100:\n",
        "        accepted_imp=0\n",
        "        for imp_index in pred2:\n",
        "          counter_imp=0\n",
        "          array_imp=np.array([0.0])\n",
        "          max_confidence_imp = array_imp.astype(type('float32', (float,), {}))\n",
        "          max_confIndex_imp=0\n",
        "          for j in imp_index:\n",
        "            if (j > max_confidence_imp):\n",
        "              max_confidence_imp=j\n",
        "              max_confIndex_imp=counter_imp\n",
        "            counter_imp+=1\n",
        "          if(max_confidence_imp > treshold_imp*0.01):\n",
        "            accepted_imp+=1\n",
        "        tresh_imp.append(treshold_imp)\n",
        "        percent_imp.append((accepted_imp)/80)\n",
        "        treshold_imp+=0.01\n",
        "\n",
        "\n",
        "    equal_tresh=[]\n",
        "    equal_percent=[]\n",
        "    for i in range(0,len(tresh_imp)):\n",
        "      if (percent_imp[i] == percent[i]):\n",
        "        equal_tresh.append(tresh_imp[i])\n",
        "        equal_percent.append(percent_imp[i])\n",
        "\n",
        "    #print(\"Equal Treshold :\",equal_tresh)\n",
        "    plt.plot(tresh,percent)\n",
        "    plt.plot(tresh_imp,percent_imp)\n",
        "    plt.plot(equal_tresh,equal_percent)\n",
        "    plt.title('Error Rate')  \n",
        "    plt.ylabel('percentage')  \n",
        "    plt.xlabel('treshold level')  \n",
        "    plt.legend(['FRR', 'FAR','EER']) \n",
        "    plt.show()\n",
        "\n",
        "    \n",
        "    \n"
      ],
      "execution_count": null,
      "outputs": []
    },
    {
      "cell_type": "code",
      "metadata": {
        "id": "qrj8hJ5mKFYW",
        "colab": {
          "base_uri": "https://localhost:8080/",
          "height": 346
        },
        "outputId": "146d53db-a595-409c-b2d8-4e60e40eebc2"
      },
      "source": [
        "evaluate_model(ti, tl, c, d)"
      ],
      "execution_count": null,
      "outputs": [
        {
          "output_type": "stream",
          "text": [
            "s1\n",
            "s6\n",
            "s9\n"
          ],
          "name": "stdout"
        },
        {
          "output_type": "display_data",
          "data": {
            "image/png": "[encoded data removed]",
            "text/plain": [
              "<Figure size 432x288 with 1 Axes>"
            ]
          },
          "metadata": {
            "tags": [],
            "needs_background": "light"
          }
        }
      ]
    },
    {
      "cell_type": "code",
      "metadata": {
        "id": "H0kIqCmcYTSI"
      },
      "source": [
        "a = []\n",
        "for i in range(100):\n",
        "        imageindex = 9\n",
        "        pathandreea1 = '/content/drive/My Drive/ATT/s6/' + str(imageindex) + '.pgm'\n",
        "        andreea1 = cv2.imread(pathandreea1, cv2.IMREAD_UNCHANGED)\n",
        "        andreea1 = cv2.resize(andreea1, (32, 32))\n",
        "        andreea1 = andreea1[:, :, np.newaxis]\n",
        "\n",
        "        test1 = np.array([andreea1])\n",
        "\n",
        "        #random_face_pixels = testX_imposter_faces[i]\n",
        "        #random_face_emb = testX_imposter[i]\n",
        "        #random_face_class = testy_imposter[i]\n",
        "        #samples = expand_dims(random_face_emb, axis=0)\n",
        "        yhat_class = model.predict(test1)\n",
        "        yhat_prob = model.predict_proba(test1)\n",
        "        class_index = yhat_class[0]\n",
        "        class_probability = yhat_prob[0,class_index] * 100\n",
        "        intp = int((class_probability))\n",
        "        #print(f'Predicted: {intp} %')\n",
        "        a.append(intp)"
      ],
      "execution_count": null,
      "outputs": []
    },
    {
      "cell_type": "code",
      "metadata": {
        "id": "x1_VbQdBYW51"
      },
      "source": [
        "# far is a list that we will save the False accaptance rate in each threshold \n",
        " # threshold is the list of thresold and it will go from 0% to 100%       \n",
        "far = []\n",
        "threshold = []\n",
        "for i in range(100):\n",
        "        num = 0\n",
        "\n",
        "        for x in a:\n",
        "                if x>i:\n",
        "                        num+=1\n",
        "        #print(i,num)\n",
        "        far.append(num)\n",
        "        threshold.append(i)\n",
        "\n",
        "far = np.array(far)\n",
        "print('FAR: ',far)\n",
        "print('-----------------------------------------------------------')"
      ],
      "execution_count": null,
      "outputs": []
    },
    {
      "cell_type": "code",
      "metadata": {
        "id": "XJtt9MdQYXnU"
      },
      "source": [
        "b = []\n",
        "for i in range(100):\n",
        "        random_face_pixels = test_X_gen_faces[i]\n",
        "        random_face_emb = testX_gen[i]\n",
        "        random_face_class = testy_gen[i]\n",
        "        face_name = out_encoder.inverse_transform([random_face_class])\n",
        "        # prediction for the face\n",
        "        samples = expand_dims(random_face_emb, axis=0)\n",
        "        yhat_class = model.predict(samples)\n",
        "        yhat_prob = model.predict_proba(samples)\n",
        "        # get name\n",
        "        class_index = yhat_class[0]\n",
        "        class_probability = yhat_prob[0,class_index] * 100\n",
        "        predict_threshold = out_encoder.inverse_transform(yhat_class)\n",
        "        if predict_threshold[0]==face_name[0]:\n",
        "                intp = int((class_probability))\n",
        "                #print(f'Predicted: {intp} %')\n",
        "                b.append(intp)\n",
        "print(b)"
      ],
      "execution_count": null,
      "outputs": []
    },
    {
      "cell_type": "code",
      "metadata": {
        "id": "4QtinqOuYXy7"
      },
      "source": [
        "frr = []\n",
        "for i in range(100):\n",
        "        num = 0\n",
        "\n",
        "        for x in b:\n",
        "                if x<i:\n",
        "                        num+=1\n",
        "        #print(i,num)\n",
        "        frr.append(num)\n",
        "\n",
        "\n",
        "frr = np.array(frr)\n",
        "print('FRR: ',frr)\n",
        "print('-----------------------------------------------------------')"
      ],
      "execution_count": null,
      "outputs": []
    },
    {
      "cell_type": "code",
      "metadata": {
        "id": "yUlCTnjAYX6V"
      },
      "source": [
        "# calculate the EER\n",
        "for i  in range(100):\n",
        "        a = frr[i]\n",
        "        b = far[i]\n",
        "        if a == b:\n",
        "                EER= a\n",
        "                print('EER = ',i)"
      ],
      "execution_count": null,
      "outputs": []
    },
    {
      "cell_type": "code",
      "metadata": {
        "id": "XFfzqonEYX-7"
      },
      "source": [
        "plt.plot(threshold,frr,'--b',far,'--r')\n",
        "plt.plot(15,EER,'ro') \n",
        "\n",
        "plt.xlabel('threshold')\n",
        "plt.title('FAR,FRR and EER')\n",
        "plt.axis([0, 100, 0, 100])\n",
        "plt.show()"
      ],
      "execution_count": null,
      "outputs": []
    },
    {
      "cell_type": "code",
      "metadata": {
        "id": "R-w016yiYlRj"
      },
      "source": [
        "threshold = np.array(threshold)"
      ],
      "execution_count": null,
      "outputs": []
    },
    {
      "cell_type": "code",
      "metadata": {
        "id": "zeIqUIniYlVV"
      },
      "source": [
        "plt.plot(threshold,frr,'--b')\n",
        "plt.xlabel('threshold')\n",
        "plt.title('FRR')\n",
        "plt.axis([0, 100, 0, 100])\n",
        "plt.show()"
      ],
      "execution_count": null,
      "outputs": []
    },
    {
      "cell_type": "code",
      "metadata": {
        "id": "xeToPXxbYlYT"
      },
      "source": [
        "plt.plot(threshold,far,'--r')\n",
        "plt.xlabel('threshold')\n",
        "plt.title('FAR')\n",
        "\n",
        "plt.axis([5, 20, 0, 100])\n",
        "plt.show()"
      ],
      "execution_count": null,
      "outputs": []
    },
    {
      "cell_type": "code",
      "metadata": {
        "id": "O69phBeLj2lq"
      },
      "source": [
        "imgs = '/content/drive/My Drive/ATT/s2'"
      ],
      "execution_count": null,
      "outputs": []
    },
    {
      "cell_type": "code",
      "metadata": {
        "id": "gnhCnDZIkVYQ"
      },
      "source": [
        "img1 = np.array(imgs[0])"
      ],
      "execution_count": null,
      "outputs": []
    },
    {
      "cell_type": "code",
      "metadata": {
        "colab": {
          "base_uri": "https://localhost:8080/",
          "height": 191
        },
        "id": "ekwNx3Thj_Kd",
        "outputId": "d09d96e5-97ec-44c5-a256-0b7ba8b3edc7"
      },
      "source": [
        "img1 = cv2.imread(img1)\n",
        "plt.imshow(img1)"
      ],
      "execution_count": null,
      "outputs": [
        {
          "output_type": "error",
          "ename": "SystemError",
          "evalue": "ignored",
          "traceback": [
            "\u001b[0;31m---------------------------------------------------------------------------\u001b[0m",
            "\u001b[0;31mSystemError\u001b[0m                               Traceback (most recent call last)",
            "\u001b[0;32m<ipython-input-42-f3dc05565e0e>\u001b[0m in \u001b[0;36m<module>\u001b[0;34m()\u001b[0m\n\u001b[0;32m----> 1\u001b[0;31m \u001b[0mimg1\u001b[0m \u001b[0;34m=\u001b[0m \u001b[0mcv2\u001b[0m\u001b[0;34m.\u001b[0m\u001b[0mimread\u001b[0m\u001b[0;34m(\u001b[0m\u001b[0mimg1\u001b[0m\u001b[0;34m)\u001b[0m\u001b[0;34m\u001b[0m\u001b[0;34m\u001b[0m\u001b[0m\n\u001b[0m\u001b[1;32m      2\u001b[0m \u001b[0mplt\u001b[0m\u001b[0;34m.\u001b[0m\u001b[0mimshow\u001b[0m\u001b[0;34m(\u001b[0m\u001b[0mimg1\u001b[0m\u001b[0;34m)\u001b[0m\u001b[0;34m\u001b[0m\u001b[0;34m\u001b[0m\u001b[0m\n",
            "\u001b[0;31mSystemError\u001b[0m: <built-in function imread> returned NULL without setting an error"
          ]
        }
      ]
    },
    {
      "cell_type": "code",
      "metadata": {
        "id": "S5-UIzZKkA8j"
      },
      "source": [
        ""
      ],
      "execution_count": null,
      "outputs": []
    }
  ]
}